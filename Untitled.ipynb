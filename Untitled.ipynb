{
 "cells": [
  {
   "cell_type": "code",
   "execution_count": 1,
   "metadata": {
    "collapsed": true
   },
   "outputs": [],
   "source": [
    "import numpy as np\n",
    "\n",
    "import matplotlib.pyplot as plt, mpld3\n",
    "# %matplotlib inline\n",
    "%matplotlib qt5\n",
    "import seaborn as sns\n",
    "import scipy.stats\n",
    "\n",
    "import matplotlib.animation as animation\n",
    "from matplotlib.ticker import NullFormatter\n",
    "nullfmt = NullFormatter()  # no labels formatting\n",
    "from IPython.display import HTML"
   ]
  },
  {
   "cell_type": "markdown",
   "metadata": {},
   "source": [
    "# 2D Plot\n",
    "\n",
    "## Figure and Axes"
   ]
  },
  {
   "cell_type": "code",
   "execution_count": 2,
   "metadata": {},
   "outputs": [],
   "source": [
    "def joint_axes():\n",
    "    # definitions for the axes\n",
    "    left, width = 0.1, 0.65\n",
    "    bottom, height = 0.1, 0.65\n",
    "    bottom_h = left_h = left + width + 0.02\n",
    "    \n",
    "    # create rectangles\n",
    "    rect_scatter = [left, bottom, width, height]\n",
    "    rect_histx = [left, bottom_h, width, 0.2]\n",
    "    rect_histy = [left_h, bottom, 0.2, height]\n",
    "\n",
    "    fig = plt.figure(1, figsize=(8, 8))  # init figure\n",
    "    \n",
    "    # joint plot\n",
    "    jax = plt.axes(rect_scatter)\n",
    "    \n",
    "    # top\n",
    "    tax = plt.axes(rect_histx)\n",
    "    \n",
    "    # right \n",
    "    rax = plt.axes(rect_histy)\n",
    "    \n",
    "    hax = [tax, rax]\n",
    "    for ax in hax:\n",
    "        ax.xaxis.set_major_formatter(nullfmt)\n",
    "        ax.yaxis.set_major_formatter(nullfmt)\n",
    "        \n",
    "    return jax, tax, rax, fig"
   ]
  },
  {
   "cell_type": "markdown",
   "metadata": {},
   "source": [
    "## Plotting"
   ]
  },
  {
   "cell_type": "code",
   "execution_count": 3,
   "metadata": {
    "collapsed": true
   },
   "outputs": [],
   "source": [
    "def animate(i):\n",
    "    global l, s1, s2, dist1, dist2\n",
    "    \n",
    "    # set the scatter plot data\n",
    "    l.set_data(s1[:i], s2[:i])\n",
    "    \n",
    "    s = [s1, s2]\n",
    "    lim = [xlim, ylim]\n",
    "    axes = [tax, rax]\n",
    "    c = [\"green\", \"red\"]\n",
    "    n_bins = 24\n",
    "    o = [\"vertical\", \"horizontal\"]\n",
    "    \n",
    "    for j,ax in enumerate(axes):\n",
    "        ax.clear()\n",
    "        ax.xaxis.set_major_formatter(nullfmt)\n",
    "        ax.yaxis.set_major_formatter(nullfmt)\n",
    "        if j == 0:\n",
    "            ax.set_xlim(xlim[0], xlim[1])\n",
    "            ax.set_ylim(0, 1)\n",
    "            x = np.linspace(xlim[0], xlim[1], 100)\n",
    "            ax.plot(x, dist1.pdf(x), color=c1)\n",
    "        else:\n",
    "            ax.set_ylim(ylim[0], ylim[1])\n",
    "            ax.set_xlim(0, 1)\n",
    "            x = np.linspace(ylim[0], ylim[1], 100)\n",
    "            ax.plot(dist2.pdf(x), x, color=c2)\n",
    "            \n",
    "        \n",
    "        ax.hist(s[j][:i], bins=np.linspace(lim[j][0],lim[j][1], num=n_bins), \n",
    "                normed=True, alpha=halpha, color=c[j], orientation=o[j])"
   ]
  },
  {
   "cell_type": "markdown",
   "metadata": {},
   "source": [
    "# 1 - Monte Carlo sampling"
   ]
  },
  {
   "cell_type": "code",
   "execution_count": 4,
   "metadata": {},
   "outputs": [
    {
     "name": "stderr",
     "output_type": "stream",
     "text": [
      "C:\\ProgramData\\Anaconda3\\lib\\site-packages\\numpy\\lib\\function_base.py:817: RuntimeWarning: invalid value encountered in true_divide\n",
      "  return n/db/n.sum(), bins\n"
     ]
    }
   ],
   "source": [
    "# dist\n",
    "dist1 = scipy.stats.norm(0, 1)\n",
    "dist2 = scipy.stats.norm(0, 1)\n",
    "\n",
    "ns=250\n",
    "\n",
    "# draw samples\n",
    "s1 = dist1.rvs(size=ns)\n",
    "s2 = dist2.rvs(size=ns)\n",
    "\n",
    "# create axes, fig\n",
    "jax, tax, rax, fig = joint_axes()\n",
    "xlim = (-5, 5)\n",
    "ylim = (-5, 5)\n",
    "c1 = \"green\"\n",
    "c2 = \"red\"\n",
    "\n",
    "halpha = 0.25\n",
    "\n",
    "# plot distributions\n",
    "x = np.linspace(xlim[0], xlim[1], 100)\n",
    "tax.plot(x, dist1.pdf(x), color=c1)\n",
    "tax.set_xlim(xlim[0], xlim[1])\n",
    "tax.set_ylim(0,1)\n",
    "y = np.linspace(ylim[0], ylim[1], 100)\n",
    "rax.plot(dist2.pdf(y), x, color=c2)\n",
    "rax.set_ylim(ylim[0], ylim[1])\n",
    "rax.set_xlim(0,1)\n",
    "\n",
    "# KDE plot\n",
    "X,Y = np.meshgrid(x,y)\n",
    "Z = dist1.pdf(X) * dist2.pdf(Y)\n",
    "\n",
    "# image\n",
    "# jax.imshow(Z, cmap=\"Blues\", extent=[xlim[0], xlim[1], ylim[0], ylim[1]], alpha=0.4)\n",
    "# contourf\n",
    "cfset = jax.contourf(X,Y,Z, alpha=0.4, cmap=\"YlOrRd\")\n",
    "cset = jax.contour(X, Y, Z, colors='k', alpha=0.2)\n",
    "jax.clabel(cset, inline=1, fontsize=10, alpha=0.2)\n",
    "#sns.kdeplot(dist1.pdf(x), dist2.pdf(y), shade=True, ax=jax)\n",
    "\n",
    "# init scatter plot\n",
    "l, = jax.plot([],[], \"ko\")\n",
    "jax.set_xlim(xlim[0], xlim[1])\n",
    "jax.set_ylim(ylim[0], ylim[1])\n",
    "\n",
    "ani = animation.FuncAnimation(fig, animate, frames=ns, interval=100)\n",
    "\n",
    "plt.show()"
   ]
  },
  {
   "cell_type": "code",
   "execution_count": null,
   "metadata": {
    "collapsed": true
   },
   "outputs": [],
   "source": [
    ""
   ]
  }
 ],
 "metadata": {
  "kernelspec": {
   "display_name": "Python 3",
   "language": "python",
   "name": "python3"
  },
  "language_info": {
   "codemirror_mode": {
    "name": "ipython",
    "version": 3.0
   },
   "file_extension": ".py",
   "mimetype": "text/x-python",
   "name": "python",
   "nbconvert_exporter": "python",
   "pygments_lexer": "ipython3",
   "version": "3.6.3"
  }
 },
 "nbformat": 4,
 "nbformat_minor": 0
}